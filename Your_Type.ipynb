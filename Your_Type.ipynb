{
  "nbformat": 4,
  "nbformat_minor": 0,
  "metadata": {
    "colab": {
      "name": "Your-Type",
      "provenance": [],
      "collapsed_sections": []
    },
    "kernelspec": {
      "name": "python3",
      "display_name": "Python 3"
    }
  },
  "cells": [
    {
      "cell_type": "markdown",
      "metadata": {
        "id": "xp4Qqf4LP3Fm"
      },
      "source": [
        "## 연구\n",
        "K-mean은 값들의 평균을 이용하는 알고리즘이기에 수치형 데이터에 더 적합하다.  \n",
        "범주형 데이터를 군집화 하기위해서 K-Prototype 알고리즘을 써봐도 될 것 같다."
      ]
    },
    {
      "cell_type": "code",
      "metadata": {
        "colab": {
          "base_uri": "https://localhost:8080/"
        },
        "id": "aQlxx-1GKKRF",
        "outputId": "5f40beda-e1a1-42e4-835e-4379d56597cf"
      },
      "source": [
        "import numpy as np\n",
        "\n",
        "question = [\"1\", \"2\", \"3\", \"4\", \"5\"]\n",
        "form = [\n",
        "    [0,1,1,0,1]\n",
        "]\n",
        "\n",
        "forms = np.random.randint(0,4,(40, 10)) / 3\n",
        "forms"
      ],
      "execution_count": null,
      "outputs": [
        {
          "output_type": "execute_result",
          "data": {
            "text/plain": [
              "array([[0.66666667, 0.33333333, 1.        , 0.        , 0.66666667,\n",
              "        0.66666667, 0.        , 0.        , 0.        , 0.        ],\n",
              "       [0.33333333, 0.33333333, 1.        , 0.33333333, 1.        ,\n",
              "        1.        , 1.        , 0.33333333, 0.        , 0.        ],\n",
              "       [0.33333333, 0.66666667, 0.33333333, 0.66666667, 0.        ,\n",
              "        0.33333333, 1.        , 0.66666667, 1.        , 0.66666667],\n",
              "       [0.66666667, 0.        , 0.        , 0.66666667, 0.66666667,\n",
              "        0.        , 0.33333333, 0.        , 1.        , 0.66666667],\n",
              "       [0.66666667, 0.66666667, 0.33333333, 0.33333333, 0.66666667,\n",
              "        0.66666667, 0.66666667, 0.66666667, 0.33333333, 1.        ],\n",
              "       [0.33333333, 0.        , 1.        , 0.33333333, 0.        ,\n",
              "        0.66666667, 0.66666667, 0.        , 0.66666667, 0.66666667],\n",
              "       [0.        , 0.33333333, 0.33333333, 0.33333333, 1.        ,\n",
              "        0.66666667, 0.33333333, 0.66666667, 0.66666667, 0.33333333],\n",
              "       [1.        , 0.        , 0.66666667, 0.33333333, 1.        ,\n",
              "        0.33333333, 1.        , 0.33333333, 0.        , 0.        ],\n",
              "       [0.        , 0.33333333, 1.        , 1.        , 0.33333333,\n",
              "        0.33333333, 0.        , 0.        , 0.        , 0.        ],\n",
              "       [1.        , 0.33333333, 0.        , 0.66666667, 0.        ,\n",
              "        0.        , 0.66666667, 0.66666667, 0.        , 0.66666667],\n",
              "       [1.        , 1.        , 0.        , 0.33333333, 0.33333333,\n",
              "        0.        , 0.33333333, 0.        , 0.33333333, 0.        ],\n",
              "       [0.66666667, 1.        , 1.        , 0.33333333, 0.        ,\n",
              "        0.33333333, 1.        , 0.        , 0.66666667, 1.        ],\n",
              "       [0.66666667, 0.        , 0.        , 0.        , 0.33333333,\n",
              "        0.33333333, 1.        , 0.        , 0.66666667, 0.33333333],\n",
              "       [1.        , 1.        , 0.66666667, 0.33333333, 1.        ,\n",
              "        1.        , 0.66666667, 1.        , 0.66666667, 0.66666667],\n",
              "       [0.        , 0.33333333, 0.        , 1.        , 0.33333333,\n",
              "        0.        , 0.33333333, 0.33333333, 1.        , 1.        ],\n",
              "       [0.66666667, 1.        , 0.        , 1.        , 0.33333333,\n",
              "        1.        , 0.33333333, 1.        , 0.66666667, 0.66666667],\n",
              "       [1.        , 0.66666667, 1.        , 1.        , 0.66666667,\n",
              "        0.        , 0.66666667, 0.        , 0.33333333, 0.33333333],\n",
              "       [0.        , 0.        , 0.66666667, 0.        , 0.33333333,\n",
              "        0.        , 0.66666667, 0.66666667, 0.66666667, 1.        ],\n",
              "       [0.33333333, 0.33333333, 1.        , 0.66666667, 0.66666667,\n",
              "        0.33333333, 0.66666667, 0.33333333, 0.33333333, 1.        ],\n",
              "       [0.66666667, 1.        , 1.        , 1.        , 0.        ,\n",
              "        0.33333333, 0.        , 0.33333333, 0.        , 1.        ],\n",
              "       [0.66666667, 0.66666667, 0.        , 0.33333333, 0.66666667,\n",
              "        0.        , 0.66666667, 0.66666667, 1.        , 0.        ],\n",
              "       [0.33333333, 0.33333333, 0.33333333, 0.        , 1.        ,\n",
              "        0.66666667, 1.        , 0.        , 1.        , 1.        ],\n",
              "       [0.66666667, 0.66666667, 1.        , 1.        , 0.66666667,\n",
              "        0.        , 0.66666667, 1.        , 0.33333333, 0.        ],\n",
              "       [0.33333333, 0.        , 0.66666667, 1.        , 0.        ,\n",
              "        1.        , 1.        , 0.66666667, 0.66666667, 0.66666667],\n",
              "       [0.66666667, 0.        , 1.        , 0.        , 0.        ,\n",
              "        1.        , 1.        , 0.66666667, 1.        , 1.        ],\n",
              "       [0.33333333, 0.33333333, 0.        , 0.        , 0.66666667,\n",
              "        0.        , 0.33333333, 0.        , 0.66666667, 0.66666667],\n",
              "       [0.33333333, 0.66666667, 0.66666667, 0.66666667, 0.33333333,\n",
              "        0.        , 0.66666667, 0.33333333, 0.33333333, 0.        ],\n",
              "       [0.        , 0.33333333, 0.        , 0.66666667, 1.        ,\n",
              "        0.        , 0.        , 1.        , 0.        , 0.        ],\n",
              "       [0.33333333, 0.66666667, 0.        , 0.66666667, 1.        ,\n",
              "        0.        , 0.        , 0.33333333, 0.        , 0.        ],\n",
              "       [1.        , 0.66666667, 1.        , 0.        , 0.33333333,\n",
              "        0.66666667, 0.66666667, 0.66666667, 0.        , 1.        ],\n",
              "       [1.        , 0.        , 0.        , 0.66666667, 0.33333333,\n",
              "        0.33333333, 0.33333333, 0.66666667, 1.        , 1.        ],\n",
              "       [0.66666667, 1.        , 0.66666667, 0.33333333, 1.        ,\n",
              "        0.        , 1.        , 0.66666667, 0.        , 0.        ],\n",
              "       [0.33333333, 0.66666667, 0.33333333, 0.66666667, 0.        ,\n",
              "        0.33333333, 1.        , 0.33333333, 1.        , 0.        ],\n",
              "       [0.66666667, 1.        , 0.66666667, 0.        , 0.        ,\n",
              "        1.        , 1.        , 0.66666667, 0.        , 0.66666667],\n",
              "       [0.66666667, 0.33333333, 0.        , 0.66666667, 0.        ,\n",
              "        0.66666667, 0.33333333, 1.        , 0.66666667, 0.66666667],\n",
              "       [1.        , 0.        , 1.        , 0.66666667, 0.33333333,\n",
              "        0.33333333, 0.33333333, 1.        , 0.        , 0.33333333],\n",
              "       [0.33333333, 0.33333333, 1.        , 1.        , 0.        ,\n",
              "        0.33333333, 0.33333333, 0.        , 1.        , 0.33333333],\n",
              "       [1.        , 0.        , 0.33333333, 0.33333333, 0.        ,\n",
              "        0.66666667, 0.66666667, 1.        , 0.        , 1.        ],\n",
              "       [0.        , 1.        , 0.        , 0.33333333, 0.66666667,\n",
              "        1.        , 0.        , 0.        , 0.        , 0.        ],\n",
              "       [0.        , 1.        , 0.33333333, 0.33333333, 0.66666667,\n",
              "        1.        , 0.        , 0.66666667, 1.        , 0.33333333]])"
            ]
          },
          "metadata": {
            "tags": []
          },
          "execution_count": 2
        }
      ]
    },
    {
      "cell_type": "code",
      "metadata": {
        "colab": {
          "base_uri": "https://localhost:8080/",
          "height": 282
        },
        "id": "FzHAPgBaNOBH",
        "outputId": "18e2785a-b4a8-4951-fc3f-e8ece86c2680"
      },
      "source": [
        "# 2D로 만들어서 시각화 하기\n",
        "from sklearn.decomposition import PCA\n",
        "import matplotlib.pyplot as plt\n",
        "\n",
        "pca = PCA(n_components=2)\n",
        "form_2d = pca.fit_transform(forms)\n",
        "plt.scatter(form_2d.T[0], form_2d.T[1])\n",
        "plt.show()\n",
        "print(pca.explained_variance_ratio_)"
      ],
      "execution_count": null,
      "outputs": [
        {
          "output_type": "display_data",
          "data": {
            "image/png": "[encoded data removed]",
            "text/plain": [
              "<Figure size 432x288 with 1 Axes>"
            ]
          },
          "metadata": {
            "tags": [],
            "needs_background": "light"
          }
        },
        {
          "output_type": "stream",
          "text": [
            "[0.20773124 0.16715466]\n"
          ],
          "name": "stdout"
        }
      ]
    },
    {
      "cell_type": "code",
      "metadata": {
        "colab": {
          "base_uri": "https://localhost:8080/"
        },
        "id": "WORu6RmNMSDt",
        "outputId": "39008091-715f-4efc-c7a6-81c1ba69bf40"
      },
      "source": [
        "from sklearn.cluster import KMeans\n",
        "import matplotlib.pyplot as plt\n",
        "import seaborn as sns\n",
        "\n",
        "# create model and prediction\n",
        "model = KMeans(n_clusters=4, algorithm='auto')\n",
        "model.fit(forms)\n",
        "print(model.cluster_centers_)"
      ],
      "execution_count": null,
      "outputs": [
        {
          "output_type": "stream",
          "text": [
            "[[0.42424242 0.45454545 0.09090909 0.36363636 0.60606061 0.36363636\n",
            "  0.42424242 0.27272727 0.75757576 0.48484848]\n",
            " [0.54545455 0.45454545 0.72727273 0.60606061 0.72727273 0.24242424\n",
            "  0.48484848 0.45454545 0.09090909 0.06060606]\n",
            " [0.37037037 0.33333333 0.77777778 0.51851852 0.11111111 0.48148148\n",
            "  0.81481481 0.37037037 0.77777778 0.7037037 ]\n",
            " [0.81481481 0.66666667 0.44444444 0.48148148 0.25925926 0.66666667\n",
            "  0.55555556 0.77777778 0.25925926 0.81481481]]\n"
          ],
          "name": "stdout"
        }
      ]
    },
    {
      "cell_type": "code",
      "metadata": {
        "colab": {
          "base_uri": "https://localhost:8080/",
          "height": 265
        },
        "id": "FmDjldunIxKp",
        "outputId": "d2ba273d-c9f7-4e79-a0bd-2952727f4f91"
      },
      "source": [
        "import pandas as pd\n",
        "\n",
        "pca_data = pd.DataFrame(form_2d, columns=['PCA_x', 'PCA_y'])\n",
        "km_data = pd.DataFrame(model.predict(forms), columns=['predict'])\n",
        "\n",
        "plt.scatter(pca_data['PCA_x'], pca_data['PCA_y'], c=km_data['predict'], alpha=0.5)\n",
        "centers = pd.DataFrame(pca.transform(model.cluster_centers_), columns=['PCA_x', 'PCA_y'])\n",
        "\n",
        "plt.scatter(centers['PCA_x'], centers['PCA_y'], s=50, marker='D', c='r')\n",
        "plt.show()"
      ],
      "execution_count": null,
      "outputs": [
        {
          "output_type": "display_data",
          "data": {
            "image/png": "[encoded data removed]",
            "text/plain": [
              "<Figure size 432x288 with 1 Axes>"
            ]
          },
          "metadata": {
            "tags": [],
            "needs_background": "light"
          }
        }
      ]
    },
    {
      "cell_type": "code",
      "metadata": {
        "colab": {
          "base_uri": "https://localhost:8080/"
        },
        "id": "17F0R4nDflQM",
        "outputId": "4b6cbf77-1227-452c-de71-c6d6566f833e"
      },
      "source": [
        "def process(form):\n",
        "    return int(model.predict(np.array([form])/4)[0])\n",
        "process([0,1,2,3,2,1,2,1,2,1])"
      ],
      "execution_count": null,
      "outputs": [
        {
          "output_type": "execute_result",
          "data": {
            "text/plain": [
              "0"
            ]
          },
          "metadata": {
            "tags": []
          },
          "execution_count": 7
        }
      ]
    },
    {
      "cell_type": "code",
      "metadata": {
        "colab": {
          "base_uri": "https://localhost:8080/"
        },
        "id": "WSPxIQGTjYfZ",
        "outputId": "90e84d3e-a7a8-4067-8f7e-9f86c26a2282"
      },
      "source": [
        "!pip install flask\n",
        "!pip install flask-ngrok\n",
        "!pip install flask_cors"
      ],
      "execution_count": null,
      "outputs": [
        {
          "output_type": "stream",
          "text": [
            "Requirement already satisfied: flask-ngrok in /usr/local/lib/python3.6/dist-packages (0.0.25)\n",
            "Requirement already satisfied: requests in /usr/local/lib/python3.6/dist-packages (from flask-ngrok) (2.23.0)\n",
            "Requirement already satisfied: Flask>=0.8 in /usr/local/lib/python3.6/dist-packages (from flask-ngrok) (1.1.2)\n",
            "Requirement already satisfied: chardet<4,>=3.0.2 in /usr/local/lib/python3.6/dist-packages (from requests->flask-ngrok) (3.0.4)\n",
            "Requirement already satisfied: urllib3!=1.25.0,!=1.25.1,<1.26,>=1.21.1 in /usr/local/lib/python3.6/dist-packages (from requests->flask-ngrok) (1.24.3)\n",
            "Requirement already satisfied: idna<3,>=2.5 in /usr/local/lib/python3.6/dist-packages (from requests->flask-ngrok) (2.10)\n",
            "Requirement already satisfied: certifi>=2017.4.17 in /usr/local/lib/python3.6/dist-packages (from requests->flask-ngrok) (2020.6.20)\n",
            "Requirement already satisfied: Jinja2>=2.10.1 in /usr/local/lib/python3.6/dist-packages (from Flask>=0.8->flask-ngrok) (2.11.2)\n",
            "Requirement already satisfied: itsdangerous>=0.24 in /usr/local/lib/python3.6/dist-packages (from Flask>=0.8->flask-ngrok) (1.1.0)\n",
            "Requirement already satisfied: Werkzeug>=0.15 in /usr/local/lib/python3.6/dist-packages (from Flask>=0.8->flask-ngrok) (1.0.1)\n",
            "Requirement already satisfied: click>=5.1 in /usr/local/lib/python3.6/dist-packages (from Flask>=0.8->flask-ngrok) (7.1.2)\n",
            "Requirement already satisfied: MarkupSafe>=0.23 in /usr/local/lib/python3.6/dist-packages (from Jinja2>=2.10.1->Flask>=0.8->flask-ngrok) (1.1.1)\n",
            "Collecting flask_cors\n",
            "  Downloading https://files.pythonhosted.org/packages/69/7f/d0aeaaafb5c3c76c8d2141dbe2d4f6dca5d6c31872d4e5349768c1958abc/Flask_Cors-3.0.9-py2.py3-none-any.whl\n",
            "Requirement already satisfied: Six in /usr/local/lib/python3.6/dist-packages (from flask_cors) (1.15.0)\n",
            "Requirement already satisfied: Flask>=0.9 in /usr/local/lib/python3.6/dist-packages (from flask_cors) (1.1.2)\n",
            "Requirement already satisfied: Werkzeug>=0.15 in /usr/local/lib/python3.6/dist-packages (from Flask>=0.9->flask_cors) (1.0.1)\n",
            "Requirement already satisfied: Jinja2>=2.10.1 in /usr/local/lib/python3.6/dist-packages (from Flask>=0.9->flask_cors) (2.11.2)\n",
            "Requirement already satisfied: itsdangerous>=0.24 in /usr/local/lib/python3.6/dist-packages (from Flask>=0.9->flask_cors) (1.1.0)\n",
            "Requirement already satisfied: click>=5.1 in /usr/local/lib/python3.6/dist-packages (from Flask>=0.9->flask_cors) (7.1.2)\n",
            "Requirement already satisfied: MarkupSafe>=0.23 in /usr/local/lib/python3.6/dist-packages (from Jinja2>=2.10.1->Flask>=0.9->flask_cors) (1.1.1)\n",
            "Installing collected packages: flask-cors\n",
            "Successfully installed flask-cors-3.0.9\n"
          ],
          "name": "stdout"
        }
      ]
    },
    {
      "cell_type": "code",
      "metadata": {
        "colab": {
          "base_uri": "https://localhost:8080/"
        },
        "id": "jBbZKzazja1G",
        "outputId": "6db652c4-c4af-4283-9ca3-157b0d9fb549"
      },
      "source": [
        "from flask_ngrok import run_with_ngrok\n",
        "from flask import Flask, request, redirect, url_for, render_template, jsonify\n",
        "from flask_cors import CORS, cross_origin\n",
        "\n",
        "# 유효성 검증 로직 추가해야함\n",
        "\n",
        "app = Flask(__name__)\n",
        "run_with_ngrok(app)\n",
        "\n",
        "app.config['CORS_HEADERS'] = 'Content-Type'\n",
        "\n",
        "CORS(app)\n",
        "CORS(app, resources={r'*': {'origins': '*'}})\n",
        "\n",
        "@app.route(\"/\")\n",
        "def index():\n",
        "    # return render_template('index.html')\n",
        "    return \"<h1>Running Flask on Google Colab!</h1>\"\n",
        "\n",
        "@app.route(\"/form\", methods=['GET', 'POST'])\n",
        "def form():\n",
        "    if request.method == 'GET':\n",
        "        return \"<h1>form PAGE</h1>\"\n",
        "    elif request.method == 'POST':\n",
        "        answer = request.json['answer']\n",
        "        print(answer)\n",
        "        if answer != None:\n",
        "            utype = process(answer)\n",
        "            return jsonify({'type': utype})\n",
        "\n",
        "@app.route(\"/report/<utype>\", methods=['GET', 'POST'])\n",
        "def report(utype):\n",
        "    if request.method == 'GET':\n",
        "        return \"<h1>form PAGE</h1>\"\n",
        "    elif request.method == 'POST':\n",
        "        return jsonify({\n",
        "            'type': utype,\n",
        "            'name': 'test type'\n",
        "        })\n",
        "\n",
        "@app.route(\"/types\")\n",
        "def types():\n",
        "    if request.method == 'GET':\n",
        "        return \"<h1>타입 전체보기</h1>\"\n",
        "\n",
        "@app.route(\"/types/<utype>\")\n",
        "def types_type(utype):\n",
        "    if request.method == 'GET':\n",
        "        return \"<h1>타입 상세보기</h1>\"\n",
        "\n",
        "app.run()"
      ],
      "execution_count": null,
      "outputs": [
        {
          "output_type": "stream",
          "text": [
            " * Serving Flask app \"__main__\" (lazy loading)\n",
            " * Environment: production\n",
            "\u001b[31m   WARNING: This is a development server. Do not use it in a production deployment.\u001b[0m\n",
            "\u001b[2m   Use a production WSGI server instead.\u001b[0m\n",
            " * Debug mode: off\n",
            " * Running on http://587b529df178.ngrok.io\n",
            " * Traffic stats available on http://127.0.0.1:4040\n"
          ],
          "name": "stdout"
        },
        {
          "output_type": "stream",
          "text": [
            "127.0.0.1 - - [18/Nov/2020 21:23:29] \"\u001b[37mOPTIONS /form HTTP/1.1\u001b[0m\" 200 -\n",
            "127.0.0.1 - - [18/Nov/2020 21:23:29] \"\u001b[37mPOST /form HTTP/1.1\u001b[0m\" 200 -\n"
          ],
          "name": "stderr"
        },
        {
          "output_type": "stream",
          "text": [
            "[0, 0, 0, 0, 0, 0, 0, 0, 0, 0]\n"
          ],
          "name": "stdout"
        },
        {
          "output_type": "stream",
          "text": [
            "127.0.0.1 - - [18/Nov/2020 21:23:39] \"\u001b[37mGET / HTTP/1.1\u001b[0m\" 200 -\n",
            "127.0.0.1 - - [18/Nov/2020 21:23:58] \"\u001b[37mOPTIONS /form HTTP/1.1\u001b[0m\" 200 -\n",
            "127.0.0.1 - - [18/Nov/2020 21:23:59] \"\u001b[37mPOST /form HTTP/1.1\u001b[0m\" 200 -\n"
          ],
          "name": "stderr"
        },
        {
          "output_type": "stream",
          "text": [
            "[0, 0, 0, 0, 0, 0, 0, 0, 0, 0]\n"
          ],
          "name": "stdout"
        },
        {
          "output_type": "stream",
          "text": [
            "127.0.0.1 - - [18/Nov/2020 21:23:59] \"\u001b[37mGET /report/0 HTTP/1.1\u001b[0m\" 200 -\n",
            "127.0.0.1 - - [18/Nov/2020 21:24:00] \"\u001b[33mGET /favicon.ico HTTP/1.1\u001b[0m\" 404 -\n",
            "127.0.0.1 - - [18/Nov/2020 21:24:02] \"\u001b[37mGET /report/0 HTTP/1.1\u001b[0m\" 200 -\n"
          ],
          "name": "stderr"
        }
      ]
    }
  ]
}